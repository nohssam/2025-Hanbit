{
 "cells": [
  {
   "cell_type": "markdown",
   "id": "71e83085-1994-427f-9262-9dd57b790b86",
   "metadata": {},
   "source": [
    "## 로지스틱 회귀"
   ]
  },
  {
   "cell_type": "markdown",
   "id": "1abe347b-111d-4ea0-affe-e8d02a27cf55",
   "metadata": {},
   "source": [
    "- 회귀문제 = 대충 답을 때려 맞추는 것\n",
    "- 선형 회귀 = 직선을 그려서 답을 맞추는 것\n",
    "- 로지스틱 회귀 = 로지스틱(확률로) 회귀(대충 답을 때려 맞추는 것)"
   ]
  },
  {
   "cell_type": "markdown",
   "id": "446aa032-0714-4c73-a055-8af215a84be9",
   "metadata": {},
   "source": [
    "로지스틱 회귀(Logistic Regression)는 **분류(Classification)** 문제에서 많이 쓰이는 알고리즘이에요. <br>\n",
    "이름은 \"회귀\"지만 사실상 **이진 분류(binary classification)** 혹은 **다중 분류(multi-class classification)** 에 사용됩니다."
   ]
  },
  {
   "cell_type": "markdown",
   "id": "3abbde3e-b1aa-45a7-95e8-091abcd80644",
   "metadata": {},
   "source": [
    "시험을 봤는데 이 시험 점수가 **합격인지 불합격인지**가 궁금할 수도 있고, <br>\n",
    "어떤 메일을 받았을 때 이게 **정상 메일인지 스팸 메일인지**를 분류하는 문제도 그렇습니다. <br>\n",
    "이렇게 **둘 중 하나를 결정하는 문제**를 이진 분류(Binary Classification)라고 합니다. <br>\n",
    "그리고 이런 문제를 풀기 위한 대표적인 알고리즘으로 **로지스틱 회귀(Logistic Regression)** 가 있습니다."
   ]
  },
  {
   "cell_type": "markdown",
   "id": "154f8de7-e23c-474b-8002-598b1bffa930",
   "metadata": {},
   "source": [
    "**로지스틱 회귀**는 **수학**을 사용하여 **두 데이터 요인 간의 관계**를 찾는 **데이터 분석 기법**입니다. <br>\n",
    "그런 다음 이 관계를 사용하여 다른 요인을 기반으로 이러한 요인 중 **하나의 값을 예측**합니다. <br>\n",
    "예측은 일반적으로 예 또는 아니요와 같이 유한한 수의 결과를 가집니다. <br>\n",
    "예를 들어 웹 사이트 방문자가 장바구니에서 결제 버튼을 클릭할지 여부를 추측한다고 가정할 때 <br>\n",
    "로지스틱 회귀 분석은 웹 사이트에서 보낸 시간 및 카트에 있는 항목 수와 같은 과거의 방문자 행동을 살펴봅니다. <br>\n",
    "그런 다음 과거에 방문자가 사이트에서 5분 이상 시간을 보내고 카트에 3개 이상의 항목을 추가한 경우 결제 버튼을 클릭했다고 판단합니다. <br>\n",
    "로지스틱 회귀 함수는 이 정보를 사용하여 새 웹 사이트 방문자의 행동을 예측할 수 있습니다. <br>"
   ]
  },
  {
   "cell_type": "code",
   "execution_count": 1,
   "id": "76f12e55-2262-4ac1-ba9e-c4929166e77f",
   "metadata": {},
   "outputs": [
    {
     "data": {
      "image/png": "[encoded data removed]",
      "text/plain": [
       "<IPython.core.display.Image object>"
      ]
     },
     "metadata": {
      "image/png": {
       "height": 600,
       "width": 800
      }
     },
     "output_type": "display_data"
    }
   ],
   "source": [
    "from IPython.display import Image, display\n",
    "display(Image(filename=\"img/img35.png\", width=800, height=600))"
   ]
  },
  {
   "cell_type": "markdown",
   "id": "ec034436-7991-4194-bfbf-36397a7eb1a3",
   "metadata": {},
   "source": [
    "#### 데이터 준비"
   ]
  },
  {
   "cell_type": "code",
   "execution_count": 2,
   "id": "8357a57c-feaa-4e42-9f4d-e42e0806541d",
   "metadata": {},
   "outputs": [
    {
     "data": {
      "text/html": [
       "<div>\n",
       "<style scoped>\n",
       "    .dataframe tbody tr th:only-of-type {\n",
       "        vertical-align: middle;\n",
       "    }\n",
       "\n",
       "    .dataframe tbody tr th {\n",
       "        vertical-align: top;\n",
       "    }\n",
       "\n",
       "    .dataframe thead th {\n",
       "        text-align: right;\n",
       "    }\n",
       "</style>\n",
       "<table border=\"1\" class=\"dataframe\">\n",
       "  <thead>\n",
       "    <tr style=\"text-align: right;\">\n",
       "      <th></th>\n",
       "      <th>Species</th>\n",
       "      <th>Weight</th>\n",
       "      <th>Length</th>\n",
       "      <th>Diagonal</th>\n",
       "      <th>Height</th>\n",
       "      <th>Width</th>\n",
       "    </tr>\n",
       "  </thead>\n",
       "  <tbody>\n",
       "    <tr>\n",
       "      <th>0</th>\n",
       "      <td>Bream</td>\n",
       "      <td>242.0</td>\n",
       "      <td>25.4</td>\n",
       "      <td>30.0</td>\n",
       "      <td>11.5200</td>\n",
       "      <td>4.0200</td>\n",
       "    </tr>\n",
       "    <tr>\n",
       "      <th>1</th>\n",
       "      <td>Bream</td>\n",
       "      <td>290.0</td>\n",
       "      <td>26.3</td>\n",
       "      <td>31.2</td>\n",
       "      <td>12.4800</td>\n",
       "      <td>4.3056</td>\n",
       "    </tr>\n",
       "    <tr>\n",
       "      <th>2</th>\n",
       "      <td>Bream</td>\n",
       "      <td>340.0</td>\n",
       "      <td>26.5</td>\n",
       "      <td>31.1</td>\n",
       "      <td>12.3778</td>\n",
       "      <td>4.6961</td>\n",
       "    </tr>\n",
       "    <tr>\n",
       "      <th>3</th>\n",
       "      <td>Bream</td>\n",
       "      <td>363.0</td>\n",
       "      <td>29.0</td>\n",
       "      <td>33.5</td>\n",
       "      <td>12.7300</td>\n",
       "      <td>4.4555</td>\n",
       "    </tr>\n",
       "    <tr>\n",
       "      <th>4</th>\n",
       "      <td>Bream</td>\n",
       "      <td>430.0</td>\n",
       "      <td>29.0</td>\n",
       "      <td>34.0</td>\n",
       "      <td>12.4440</td>\n",
       "      <td>5.1340</td>\n",
       "    </tr>\n",
       "  </tbody>\n",
       "</table>\n",
       "</div>"
      ],
      "text/plain": [
       "  Species  Weight  Length  Diagonal   Height   Width\n",
       "0   Bream   242.0    25.4      30.0  11.5200  4.0200\n",
       "1   Bream   290.0    26.3      31.2  12.4800  4.3056\n",
       "2   Bream   340.0    26.5      31.1  12.3778  4.6961\n",
       "3   Bream   363.0    29.0      33.5  12.7300  4.4555\n",
       "4   Bream   430.0    29.0      34.0  12.4440  5.1340"
      ]
     },
     "execution_count": 2,
     "metadata": {},
     "output_type": "execute_result"
    }
   ],
   "source": [
    "import pandas as pd\n",
    "\n",
    "fish = pd.read_csv('https://bit.ly/fish_csv_data')\n",
    "fish.head()"
   ]
  },
  {
   "cell_type": "code",
   "execution_count": 3,
   "id": "52838370-554f-498e-b151-168d08087f9b",
   "metadata": {},
   "outputs": [
    {
     "name": "stdout",
     "output_type": "stream",
     "text": [
      "(159, 6)\n",
      "['Bream' 'Roach' 'Whitefish' 'Parkki' 'Perch' 'Pike' 'Smelt']\n"
     ]
    }
   ],
   "source": [
    "# 크기 (159, 6)\n",
    "print(fish.shape)\n",
    "\n",
    "# 가지고 있는 고유값 추출 Species = 스피쉬즈\n",
    "print(pd.unique(fish['Species']))\n",
    "\n",
    "# ['Bream' 'Roach' 'Whitefish' 'Parkki'    'Perch'   'Pike'      'Smelt']\n",
    "#   브림    로우치  화이트피시  파르키      퍼치      파이크      스멜트\n",
    "# ['도미', '붕어',  '송어',  '파르키어', '농어', '강꼬치고기', '빙어']\n"
   ]
  },
  {
   "cell_type": "code",
   "execution_count": 4,
   "id": "b9e20d73-e73b-4437-a61b-5fb3cd1e83e5",
   "metadata": {},
   "outputs": [
    {
     "data": {
      "text/html": [
       "<div>\n",
       "<style scoped>\n",
       "    .dataframe tbody tr th:only-of-type {\n",
       "        vertical-align: middle;\n",
       "    }\n",
       "\n",
       "    .dataframe tbody tr th {\n",
       "        vertical-align: top;\n",
       "    }\n",
       "\n",
       "    .dataframe thead th {\n",
       "        text-align: right;\n",
       "    }\n",
       "</style>\n",
       "<table border=\"1\" class=\"dataframe\">\n",
       "  <thead>\n",
       "    <tr style=\"text-align: right;\">\n",
       "      <th></th>\n",
       "      <th>Weight</th>\n",
       "      <th>Length</th>\n",
       "      <th>Diagonal</th>\n",
       "      <th>Height</th>\n",
       "      <th>Width</th>\n",
       "    </tr>\n",
       "  </thead>\n",
       "  <tbody>\n",
       "    <tr>\n",
       "      <th>0</th>\n",
       "      <td>242.0</td>\n",
       "      <td>25.4</td>\n",
       "      <td>30.0</td>\n",
       "      <td>11.5200</td>\n",
       "      <td>4.0200</td>\n",
       "    </tr>\n",
       "    <tr>\n",
       "      <th>1</th>\n",
       "      <td>290.0</td>\n",
       "      <td>26.3</td>\n",
       "      <td>31.2</td>\n",
       "      <td>12.4800</td>\n",
       "      <td>4.3056</td>\n",
       "    </tr>\n",
       "    <tr>\n",
       "      <th>2</th>\n",
       "      <td>340.0</td>\n",
       "      <td>26.5</td>\n",
       "      <td>31.1</td>\n",
       "      <td>12.3778</td>\n",
       "      <td>4.6961</td>\n",
       "    </tr>\n",
       "    <tr>\n",
       "      <th>3</th>\n",
       "      <td>363.0</td>\n",
       "      <td>29.0</td>\n",
       "      <td>33.5</td>\n",
       "      <td>12.7300</td>\n",
       "      <td>4.4555</td>\n",
       "    </tr>\n",
       "    <tr>\n",
       "      <th>4</th>\n",
       "      <td>430.0</td>\n",
       "      <td>29.0</td>\n",
       "      <td>34.0</td>\n",
       "      <td>12.4440</td>\n",
       "      <td>5.1340</td>\n",
       "    </tr>\n",
       "  </tbody>\n",
       "</table>\n",
       "</div>"
      ],
      "text/plain": [
       "   Weight  Length  Diagonal   Height   Width\n",
       "0   242.0    25.4      30.0  11.5200  4.0200\n",
       "1   290.0    26.3      31.2  12.4800  4.3056\n",
       "2   340.0    26.5      31.1  12.3778  4.6961\n",
       "3   363.0    29.0      33.5  12.7300  4.4555\n",
       "4   430.0    29.0      34.0  12.4440  5.1340"
      ]
     },
     "execution_count": 4,
     "metadata": {},
     "output_type": "execute_result"
    }
   ],
   "source": [
    "# 데이터 프레임에서 스피쉬즈(species) 열을 타킷으로 만들고 나머지 5개 열을 입력데티로 사용\n",
    "fish_input = fish[['Weight','Length','Diagonal','Height','Width']]\n",
    "fish_input.head()"
   ]
  },
  {
   "cell_type": "code",
   "execution_count": 5,
   "id": "ef3e174b-9f20-477b-b9ca-ec9c0312160b",
   "metadata": {},
   "outputs": [],
   "source": [
    "fish_target = fish['Species']"
   ]
  },
  {
   "cell_type": "markdown",
   "id": "88823d79-e9c6-4df3-8aac-2281e6a19393",
   "metadata": {},
   "source": [
    "## k-최근접 이웃의 다중 분류"
   ]
  },
  {
   "cell_type": "markdown",
   "id": "74914613-c645-4bed-b503-5ef3d38fd65f",
   "metadata": {},
   "source": [
    "#### 사이킷 런을 사용하여 훈련데이터와 테스트데이터 만들기 "
   ]
  },
  {
   "cell_type": "code",
   "execution_count": 6,
   "id": "a5214372-e724-4678-9a0f-3d7ae19f5a7e",
   "metadata": {},
   "outputs": [],
   "source": [
    "from sklearn.model_selection import train_test_split\n",
    "\n",
    "train_input, test_input, train_target, test_target = train_test_split(\n",
    "    fish_input, fish_target, random_state=42)"
   ]
  },
  {
   "cell_type": "code",
   "execution_count": 7,
   "id": "8121d312-5e0c-4301-a244-c47392ccec16",
   "metadata": {},
   "outputs": [],
   "source": [
    "### StandardScaler는 **데이터 정규화(스케일링)**를 해주는 도구\n",
    "### 각 특성(feature)의 평균을 0, 표준편차를 1로 변환합니다.\n",
    "### 데이터가 표준정규분포(mean=0, std=1)에 가깝게 바뀌어요."
   ]
  },
  {
   "cell_type": "code",
   "execution_count": 8,
   "id": "0b7986f7-1f99-4c39-8a10-fde9da346292",
   "metadata": {},
   "outputs": [],
   "source": [
    "from sklearn.preprocessing import StandardScaler\n",
    "\n",
    "ss = StandardScaler()\n",
    "ss.fit(train_input)\n",
    "train_scaled = ss.transform(train_input)\n",
    "test_scaled = ss.transform(test_input)"
   ]
  },
  {
   "cell_type": "code",
   "execution_count": 9,
   "id": "e78399af-8a24-4da2-92a9-94cb7cb2a906",
   "metadata": {},
   "outputs": [
    {
     "name": "stdout",
     "output_type": "stream",
     "text": [
      "0.8907563025210085\n",
      "0.85\n"
     ]
    }
   ],
   "source": [
    "from sklearn.neighbors import KNeighborsClassifier\n",
    "\n",
    "kn = KNeighborsClassifier(n_neighbors=3) # 기본은 5\n",
    "kn.fit(train_scaled, train_target)\n",
    "\n",
    "print(kn.score(train_scaled, train_target))\n",
    "print(kn.score(test_scaled, test_target))"
   ]
  },
  {
   "cell_type": "code",
   "execution_count": 10,
   "id": "0682bc11-53a6-4342-afcd-c1dec07e21be",
   "metadata": {},
   "outputs": [
    {
     "name": "stdout",
     "output_type": "stream",
     "text": [
      "['Bream' 'Parkki' 'Perch' 'Pike' 'Roach' 'Smelt' 'Whitefish']\n"
     ]
    }
   ],
   "source": [
    "print(kn.classes_) #전체 클래스가 보인다."
   ]
  },
  {
   "cell_type": "code",
   "execution_count": 11,
   "id": "4db7cc35-9dc8-4604-a22a-1fdc2fdcf237",
   "metadata": {},
   "outputs": [
    {
     "name": "stdout",
     "output_type": "stream",
     "text": [
      "['Perch' 'Smelt' 'Pike' 'Perch' 'Perch']\n"
     ]
    }
   ],
   "source": [
    "print(kn.predict(test_scaled[:5])) # 테스트 처음 5개 예측"
   ]
  },
  {
   "cell_type": "code",
   "execution_count": 12,
   "id": "368555a4-f185-4730-9ee6-afc8f4a970f1",
   "metadata": {},
   "outputs": [
    {
     "name": "stdout",
     "output_type": "stream",
     "text": [
      "[[0.     0.     1.     0.     0.     0.     0.    ]\n",
      " [0.     0.     0.     0.     0.     1.     0.    ]\n",
      " [0.     0.     0.     1.     0.     0.     0.    ]\n",
      " [0.     0.     0.6667 0.     0.3333 0.     0.    ]\n",
      " [0.     0.     0.6667 0.     0.3333 0.     0.    ]]\n"
     ]
    }
   ],
   "source": [
    "import numpy as np\n",
    "# 확률 출력 : predict_proba()\n",
    "proba = kn.predict_proba(test_scaled[:5])\n",
    "print(np.round(proba, decimals=4))"
   ]
  },
  {
   "cell_type": "code",
   "execution_count": 13,
   "id": "70d97b58-a152-4b31-ab06-defccbd92ef7",
   "metadata": {},
   "outputs": [
    {
     "data": {
      "image/png": "[encoded data removed]",
      "text/plain": [
       "<IPython.core.display.Image object>"
      ]
     },
     "metadata": {
      "image/png": {
       "height": 600,
       "width": 800
      }
     },
     "output_type": "display_data"
    }
   ],
   "source": [
    "display(Image(filename=\"img/img38.png\", width=800, height=600))"
   ]
  },
  {
   "cell_type": "code",
   "execution_count": 14,
   "id": "0080a802-3cab-4188-b19d-8d6ca803c502",
   "metadata": {},
   "outputs": [
    {
     "name": "stdout",
     "output_type": "stream",
     "text": [
      "52     Roach\n",
      "106    Perch\n",
      "103    Perch\n",
      "Name: Species, dtype: object\n"
     ]
    }
   ],
   "source": [
    "distances, indexes = kn.kneighbors(test_scaled[3:4])\n",
    "print(train_target.iloc[indexes[0]])"
   ]
  }
 ],
 "metadata": {
  "kernelspec": {
   "display_name": "Python [conda env:base] *",
   "language": "python",
   "name": "conda-base-py"
  },
  "language_info": {
   "codemirror_mode": {
    "name": "ipython",
    "version": 3
   },
   "file_extension": ".py",
   "mimetype": "text/x-python",
   "name": "python",
   "nbconvert_exporter": "python",
   "pygments_lexer": "ipython3",
   "version": "3.13.5"
  }
 },
 "nbformat": 4,
 "nbformat_minor": 5
}
